{
 "cells": [
  {
   "cell_type": "code",
   "execution_count": 14,
   "id": "acd7ad9e-f85c-49a7-b94d-7cbf03b6bf43",
   "metadata": {},
   "outputs": [
    {
     "name": "stderr",
     "output_type": "stream",
     "text": [
      "C:\\Users\\schurrj1\\AppData\\Local\\Temp\\ipykernel_25848\\1657888569.py:49: DeprecationWarning: 'reaction_equation' is deprecated and will be removed after Cantera 2.6.\n",
      "Replaceable by property 'equation' of the corresponding reaction object.\n",
      "  writer.writerow([gas.reaction_equation(i)]+list(Laminar1Dflame.heat_production_rates[i]))\n"
     ]
    },
    {
     "ename": "KeyError",
     "evalue": "1",
     "output_type": "error",
     "traceback": [
      "\u001b[1;31m---------------------------------------------------------------------------\u001b[0m",
      "\u001b[1;31mKeyError\u001b[0m                                  Traceback (most recent call last)",
      "File \u001b[1;32m~\\.conda\\envs\\cantera26\\lib\\site-packages\\pandas\\core\\indexes\\base.py:3791\u001b[0m, in \u001b[0;36mIndex.get_loc\u001b[1;34m(self, key)\u001b[0m\n\u001b[0;32m   3790\u001b[0m \u001b[38;5;28;01mtry\u001b[39;00m:\n\u001b[1;32m-> 3791\u001b[0m     \u001b[38;5;28;01mreturn\u001b[39;00m \u001b[38;5;28;43mself\u001b[39;49m\u001b[38;5;241;43m.\u001b[39;49m\u001b[43m_engine\u001b[49m\u001b[38;5;241;43m.\u001b[39;49m\u001b[43mget_loc\u001b[49m\u001b[43m(\u001b[49m\u001b[43mcasted_key\u001b[49m\u001b[43m)\u001b[49m\n\u001b[0;32m   3792\u001b[0m \u001b[38;5;28;01mexcept\u001b[39;00m \u001b[38;5;167;01mKeyError\u001b[39;00m \u001b[38;5;28;01mas\u001b[39;00m err:\n",
      "File \u001b[1;32mindex.pyx:152\u001b[0m, in \u001b[0;36mpandas._libs.index.IndexEngine.get_loc\u001b[1;34m()\u001b[0m\n",
      "File \u001b[1;32mindex.pyx:181\u001b[0m, in \u001b[0;36mpandas._libs.index.IndexEngine.get_loc\u001b[1;34m()\u001b[0m\n",
      "File \u001b[1;32mpandas\\_libs\\hashtable_class_helper.pxi:7080\u001b[0m, in \u001b[0;36mpandas._libs.hashtable.PyObjectHashTable.get_item\u001b[1;34m()\u001b[0m\n",
      "File \u001b[1;32mpandas\\_libs\\hashtable_class_helper.pxi:7088\u001b[0m, in \u001b[0;36mpandas._libs.hashtable.PyObjectHashTable.get_item\u001b[1;34m()\u001b[0m\n",
      "\u001b[1;31mKeyError\u001b[0m: 1",
      "\nThe above exception was the direct cause of the following exception:\n",
      "\u001b[1;31mKeyError\u001b[0m                                  Traceback (most recent call last)",
      "Cell \u001b[1;32mIn[14], line 56\u001b[0m\n\u001b[0;32m     53\u001b[0m csvfile_transposed\u001b[38;5;241m.\u001b[39mto_csv(\u001b[38;5;124m'\u001b[39m\u001b[38;5;124mheat_production_rates_\u001b[39m\u001b[38;5;132;01m{}\u001b[39;00m\u001b[38;5;124m_\u001b[39m\u001b[38;5;132;01m{}\u001b[39;00m\u001b[38;5;124m_\u001b[39m\u001b[38;5;132;01m{}\u001b[39;00m\u001b[38;5;124m_\u001b[39m\u001b[38;5;132;01m{}\u001b[39;00m\u001b[38;5;124m.csv\u001b[39m\u001b[38;5;124m'\u001b[39m\u001b[38;5;241m.\u001b[39mformat(mech,Temperature,Pressure,phi))\n\u001b[0;32m     55\u001b[0m data \u001b[38;5;241m=\u001b[39m pd\u001b[38;5;241m.\u001b[39mread_csv(\u001b[38;5;124m'\u001b[39m\u001b[38;5;124mheat_release_\u001b[39m\u001b[38;5;132;01m{}\u001b[39;00m\u001b[38;5;124m_\u001b[39m\u001b[38;5;132;01m{}\u001b[39;00m\u001b[38;5;124m_\u001b[39m\u001b[38;5;132;01m{}\u001b[39;00m\u001b[38;5;124m_\u001b[39m\u001b[38;5;132;01m{}\u001b[39;00m\u001b[38;5;124m.csv\u001b[39m\u001b[38;5;124m'\u001b[39m\u001b[38;5;241m.\u001b[39mformat(mech,Temperature,Pressure,phi))\n\u001b[1;32m---> 56\u001b[0m HRR \u001b[38;5;241m=\u001b[39m \u001b[43mdata\u001b[49m\u001b[43m[\u001b[49m\u001b[38;5;241;43m1\u001b[39;49m\u001b[43m]\u001b[49m\n\u001b[0;32m     58\u001b[0m reactions \u001b[38;5;241m=\u001b[39m pd\u001b[38;5;241m.\u001b[39mread_csv(\u001b[38;5;124m'\u001b[39m\u001b[38;5;124mheat_production_rates_\u001b[39m\u001b[38;5;132;01m{}\u001b[39;00m\u001b[38;5;124m_\u001b[39m\u001b[38;5;132;01m{}\u001b[39;00m\u001b[38;5;124m_\u001b[39m\u001b[38;5;132;01m{}\u001b[39;00m\u001b[38;5;124m_\u001b[39m\u001b[38;5;132;01m{}\u001b[39;00m\u001b[38;5;124m.csv\u001b[39m\u001b[38;5;124m'\u001b[39m\u001b[38;5;241m.\u001b[39mformat(mech,Temperature,Pressure,phi))\n\u001b[0;32m     59\u001b[0m react1 \u001b[38;5;241m=\u001b[39m reactions[\u001b[38;5;124m'\u001b[39m\u001b[38;5;124mN + NO <=> N2 + O\u001b[39m\u001b[38;5;124m'\u001b[39m]\n",
      "File \u001b[1;32m~\\.conda\\envs\\cantera26\\lib\\site-packages\\pandas\\core\\frame.py:3893\u001b[0m, in \u001b[0;36mDataFrame.__getitem__\u001b[1;34m(self, key)\u001b[0m\n\u001b[0;32m   3891\u001b[0m \u001b[38;5;28;01mif\u001b[39;00m \u001b[38;5;28mself\u001b[39m\u001b[38;5;241m.\u001b[39mcolumns\u001b[38;5;241m.\u001b[39mnlevels \u001b[38;5;241m>\u001b[39m \u001b[38;5;241m1\u001b[39m:\n\u001b[0;32m   3892\u001b[0m     \u001b[38;5;28;01mreturn\u001b[39;00m \u001b[38;5;28mself\u001b[39m\u001b[38;5;241m.\u001b[39m_getitem_multilevel(key)\n\u001b[1;32m-> 3893\u001b[0m indexer \u001b[38;5;241m=\u001b[39m \u001b[38;5;28;43mself\u001b[39;49m\u001b[38;5;241;43m.\u001b[39;49m\u001b[43mcolumns\u001b[49m\u001b[38;5;241;43m.\u001b[39;49m\u001b[43mget_loc\u001b[49m\u001b[43m(\u001b[49m\u001b[43mkey\u001b[49m\u001b[43m)\u001b[49m\n\u001b[0;32m   3894\u001b[0m \u001b[38;5;28;01mif\u001b[39;00m is_integer(indexer):\n\u001b[0;32m   3895\u001b[0m     indexer \u001b[38;5;241m=\u001b[39m [indexer]\n",
      "File \u001b[1;32m~\\.conda\\envs\\cantera26\\lib\\site-packages\\pandas\\core\\indexes\\base.py:3798\u001b[0m, in \u001b[0;36mIndex.get_loc\u001b[1;34m(self, key)\u001b[0m\n\u001b[0;32m   3793\u001b[0m     \u001b[38;5;28;01mif\u001b[39;00m \u001b[38;5;28misinstance\u001b[39m(casted_key, \u001b[38;5;28mslice\u001b[39m) \u001b[38;5;129;01mor\u001b[39;00m (\n\u001b[0;32m   3794\u001b[0m         \u001b[38;5;28misinstance\u001b[39m(casted_key, abc\u001b[38;5;241m.\u001b[39mIterable)\n\u001b[0;32m   3795\u001b[0m         \u001b[38;5;129;01mand\u001b[39;00m \u001b[38;5;28many\u001b[39m(\u001b[38;5;28misinstance\u001b[39m(x, \u001b[38;5;28mslice\u001b[39m) \u001b[38;5;28;01mfor\u001b[39;00m x \u001b[38;5;129;01min\u001b[39;00m casted_key)\n\u001b[0;32m   3796\u001b[0m     ):\n\u001b[0;32m   3797\u001b[0m         \u001b[38;5;28;01mraise\u001b[39;00m InvalidIndexError(key)\n\u001b[1;32m-> 3798\u001b[0m     \u001b[38;5;28;01mraise\u001b[39;00m \u001b[38;5;167;01mKeyError\u001b[39;00m(key) \u001b[38;5;28;01mfrom\u001b[39;00m \u001b[38;5;21;01merr\u001b[39;00m\n\u001b[0;32m   3799\u001b[0m \u001b[38;5;28;01mexcept\u001b[39;00m \u001b[38;5;167;01mTypeError\u001b[39;00m:\n\u001b[0;32m   3800\u001b[0m     \u001b[38;5;66;03m# If we have a listlike key, _check_indexing_error will raise\u001b[39;00m\n\u001b[0;32m   3801\u001b[0m     \u001b[38;5;66;03m#  InvalidIndexError. Otherwise we fall through and re-raise\u001b[39;00m\n\u001b[0;32m   3802\u001b[0m     \u001b[38;5;66;03m#  the TypeError.\u001b[39;00m\n\u001b[0;32m   3803\u001b[0m     \u001b[38;5;28mself\u001b[39m\u001b[38;5;241m.\u001b[39m_check_indexing_error(key)\n",
      "\u001b[1;31mKeyError\u001b[0m: 1"
     ]
    }
   ],
   "source": [
    "import cantera as ct\n",
    "import timeit\n",
    "import pandas as pd\n",
    "import csv\n",
    "import glob\n",
    "import os\n",
    "\n",
    "\n",
    "mech = 'Konnov_Han2021_dup_repairedfN2.yaml' # including NOx\n",
    "\n",
    "gas = ct.Solution(mech)\n",
    "\n",
    "# Simulation parameters \n",
    "Pressure = 15*ct.one_atm   # pressure [Pa]\n",
    "Temperature = 500     # unburned gas temperature [K]   \n",
    "phi = 1.0         # Equivalence ratio\n",
    "\n",
    "# Solution\n",
    "gas.TP = Temperature, Pressure\n",
    "gas.set_equivalence_ratio(phi, 'H2:1.0', 'O2:1.0, N2:3.76') # Air\n",
    "#gas.set_equivalence_ratio(phi, 'H2:1.0', 'N2O:1.0') # N2O\n",
    "\n",
    "\n",
    "# Flame object\n",
    "Laminar1Dflame = ct.FreeFlame(gas, width=0.1)\n",
    "Laminar1Dflame.set_refine_criteria(ratio=3, slope=0.002, curve=0.002, prune=0.9*0.002)  # Ensuring 4000 grids\n",
    "Laminar1Dflame.set_max_grid_points(Laminar1Dflame.flame, 1e4)\n",
    "Laminar1Dflame.max_time_step_count = 1e6\n",
    "Laminar1Dflame.transport_model = 'Multi'\n",
    "Laminar1Dflame.soret_enabled = True\n",
    "Laminar1Dflame.solve(loglevel=0, refine_grid=True, auto=False)\n",
    "\n",
    "\n",
    "# Total HRR\n",
    "csvFile = open ('heat_release_{}_{}_{}_{}.csv'.format(mech,Temperature, Pressure, phi), 'w')\n",
    "writer = csv.writer(csvFile)\n",
    "writer.writerow(list(Laminar1Dflame.grid))\n",
    "writer.writerow(list(Laminar1Dflame.heat_release_rate))\n",
    "csvFile.close()\n",
    "forTransposing = pd.read_csv('heat_release_{}_{}_{}_{}.csv'.format(mech,Temperature,Pressure,phi))\n",
    "csvfile_transposed = forTransposing.T\n",
    "csvfile_transposed.to_csv('heat_release_{}_{}_{}_{}.csv'.format(mech,Temperature,Pressure,phi))\n",
    "\n",
    "# HRR for each reaction\n",
    "csvFile = open ('heat_production_rates_{}_{}_{}_{}.csv'.format(mech,Temperature,Pressure,phi), 'w')\n",
    "writer = csv.writer(csvFile)\n",
    "writer.writerow(['Reaction Equations     /    z (m)']+list(Laminar1Dflame.grid))\n",
    "for i in range (len(Laminar1Dflame.heat_production_rates)):      \n",
    " writer.writerow([gas.reaction_equation(i)]+list(Laminar1Dflame.heat_production_rates[i]))\n",
    "csvFile.close()\n",
    "forTransposing = pd.read_csv('heat_production_rates_{}_{}_{}_{}.csv'.format(mech,Temperature,Pressure,phi))\n",
    "csvfile_transposed = forTransposing.T\n",
    "csvfile_transposed.to_csv('heat_production_rates_{}_{}_{}_{}.csv'.format(mech,Temperature,Pressure,phi))\n",
    "\n",
    "data = pd.read_csv('heat_release_{}_{}_{}_{}.csv'.format(mech,Temperature,Pressure,phi))\n",
    "HRR = data[1]\n",
    "\n",
    "reactions = pd.read_csv('heat_production_rates_{}_{}_{}_{}.csv'.format(mech,Temperature,Pressure,phi))\n",
    "react1 = reactions['N + NO <=> N2 + O']\n",
    "react2 = reactions['N + OH <=> H + NO']\n",
    "react3 = reactions['H2O + H2O <=> H + OH + H2O']\n",
    "\n",
    "# Plot\n",
    "plt.plot(Laminar1Dflame.grid, react1, label = \"N + NO <=> N2 + O\")\n",
    "plt.plot(Laminar1Dflame.grid, react2, label = \"N + OH <=> H + NO\")\n",
    "plt.plot(Laminar1Dflame.grid, react2, label = 'H2O + H2O <=> H + OH + H2O')\n",
    "plt.plot(Laminar1Dflame.grid, HRR, label = 'Total HRR')\n",
    "plt.grid(True)\n",
    "plt.xlabel(\"Burner Height [m]\")\n",
    "plt.ylabel(\"HRR [W/$m^2$]\")\n",
    "pylab.xlim(0.03, 0.1)\n",
    "pylab.ylim(-3e7, 3e7)\n"
   ]
  },
  {
   "cell_type": "code",
   "execution_count": 13,
   "id": "86bdb39a-df9a-44c8-a4af-9ea191b255ba",
   "metadata": {},
   "outputs": [
    {
     "data": {
      "text/plain": [
       "90018"
      ]
     },
     "execution_count": 13,
     "metadata": {},
     "output_type": "execute_result"
    }
   ],
   "source": [
    "csvFile = open('heat_production_rates_Konnov_Han2021_dup_repairedfN2.yaml_500_1519875.0_1.0.csv'.format(mech,Temperature,Pressure,phi),'w')\n",
    "writer = csv.writer(csvFile)\n",
    "writer.writerow(['Reaction Equations     /    z (m)']+list(Laminar1Dflame.grid))"
   ]
  },
  {
   "cell_type": "code",
   "execution_count": null,
   "id": "60be8b56-d3ee-4e64-bbeb-f06f2bbda6bb",
   "metadata": {},
   "outputs": [],
   "source": []
  }
 ],
 "metadata": {
  "kernelspec": {
   "display_name": "Python 3 (ipykernel)",
   "language": "python",
   "name": "python3"
  },
  "language_info": {
   "codemirror_mode": {
    "name": "ipython",
    "version": 3
   },
   "file_extension": ".py",
   "mimetype": "text/x-python",
   "name": "python",
   "nbconvert_exporter": "python",
   "pygments_lexer": "ipython3",
   "version": "3.10.13"
  }
 },
 "nbformat": 4,
 "nbformat_minor": 5
}
